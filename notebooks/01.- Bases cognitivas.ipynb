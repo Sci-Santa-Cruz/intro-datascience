{
 "cells": [
  {
   "cell_type": "markdown",
   "metadata": {},
   "source": [
    "## Datos y la pirámide DIKW\n",
    "\n",
    "Los datos son la materia prima del razonamiento y de la toma de decisiones y, dado su gran volumen y diversidad, son la característica fundamental de esta era. Sin embargo, y a pesar de que existe un claro consenso al respecto, no existe una definición absolutamente aceptada de lo que es un dato ni de sus productos derivados. [Aqui](http://www.success.co.il/is/zins_definitions_dik.pdf) una excelente discusión al respecto.\n",
    "\n",
    "Una definición aceptable de datos, en el contexto que nos interesa, es:\n",
    "\n",
    ">Los datos son un conjunto de símbolos o signos que representan estímulos del medio ambiente o señales, y que son registrados a partir de la observación. \n",
    "\n",
    "- A partir de los datos se generan, sucesivamente, constructos de mayor abstracción: la información, el conocimiento y la sabiduría. La relación entre los datos y estos otros conceptos suele describirse a través de la llamada *pirámide de datos*, también conocida como *pirámide de la información*, *del conocimiento*, *de la sabiduría* o, simplemente, *pirámide DIKW* (por las siglas en inglés <em><strong>d</strong>ata, <strong>i</strong>nformation, <strong>k</strong>nowledge, <strong>w</strong>isdom</em>). En la siguiente figura se muestra un diagrama de la pirámide DIKW con un ejemplo simple: \n",
    "\n",
    "![](../images/dikw.png)\n",
    "\n",
    "- De manera similar, podemos definir el término *información* como un conjunto de datos organizados para un propósito específico y presentados en un contexto que les da significado y relevancia para el usuario.\n",
    "- El *conocimiento* es el conjunto de reglas, en un contexto dado, que resultan de la interpretación y apropiación de la información por parte del usuario. \n",
    "- La *sabiduría*, por su parte, es la capacidad de tomar decisiones adecuadas utilizando el conocimiento, la experiencia, la comprensión y la percepción. El fin de la ciencia de datos es transformar datos en acciones pertinentes a través de la generación de información, conocimiento y sabiduría."
   ]
  },
  {
   "cell_type": "markdown",
   "metadata": {},
   "source": [
    "## Patrones y percepción\n",
    "\n",
    "Un *patrón* puede definirse como  una regularidad en un sistema. La capacidad de identificar estas regularidades es lo que podemos llamar **Reconocimiento de patrones**.\n",
    "\n",
    "El reconocimiento de patrones es una habilidad natural del ser humano, y de los seres vivos en general, y es lo que nos permite reconocer objetos en ambientes complejos y tomar decisiones de forma cotidiana. En la imagen siguiente, por ejemplo, podemos observar un camino de terracería y aunque se trata de tierra, piedras y vegetación mezclados, es muy simple distinguir los límites (imprecisos) entre el camino y los bordes, las piedras a un costado y la vegetación. Incluso podemos distinguir en el camino las zonas por donde transitan regularmente los automóviles.\n",
    "\n",
    "![](../images/patterns01.png)<br>\n",
    "\n",
    "![](../images/patterns01.jpeg)<br>\n",
    "\n",
    "Existen diferentes tipos de regularidades que pueden ser detectadas de forma natural por los humanos, entre las que se pueden destacar las siguientes: \n",
    "* **Armonía**: Proveniente del griego ἁρμονία (harmonía), que significa “conjunto, acuerdo, concordia”, esta palabra se usa comúnmente para denotar formas de concordancia y acuerdo en el ámbito social y musical. Sin embargo, podemos hablar también de armonías visuales, olfativas, gustativas o táctiles.\n",
    "![](../images/armonias.jpg)<br>\n",
    "* **Ritmo**: El ritmo es cualquier movimiento regular y recurrente, marcado por la sucesión regular de elementos débiles y fuertes, o bien de condiciones opuestas o diferentes. \n",
    "![](../images/rythm.jpg)<br>\n",
    "En la definición del ritmo, el movimiento puede hacer referencia a una secuencia 'apreciadas' de estados: un escalón que 'sigue a otro', por ejemplo. <br><br>\n",
    "* **Flujo**: La palabra flujo, proveniente del latín *fluxus* hace referencia al movimiento de una substancia, un fluido, que puede tratarse de una corriente o de una emanación. Aunque típicamente se asocia el flujo a un líquido, actualmente  el término se utiliza para para referirse a cualquier efecto en el que una cosa parece pasar o viajar, ya sea que se mueva o no. Así, podemos hablar del flujo de actividades en un proceso o del flujo de efectivo en una empresa. \n",
    "![](../images/flow.png)<br>\n",
    "* **Simetría**: La simetría se define como la 'correspondencia exacta en la disposición regular de las partes o puntos de un cuerpo o figura con relación a un centro, un eje o un plano'. \n",
    "![](../images/symmetry.png)<br>\n",
    "* **Proporcionalidad**: La proporcionalidad es una relación o razón constante entre magnitudes medibles. \n",
    "![](../images/proportion.png)<br>\n",
    "\n",
    "\n",
    "## Reconocimiento de patrones y conocimiento\n",
    "El ser humano ha tratado, desde el surgimiento de la sociedad, de identificar las regularidades en un ambiente, típicamente azaroso, para generar modelos abstractos. \n",
    "\n",
    "[![](../images/ptolemaic_small.jpg)](../images/ptolemaic.jpg)<br>\n",
    "\n",
    "Estos modelos, utilizados por los seres humanos para dominar su entorno, son representaciones parciales de la realidad, limitadas por las capacidades del ser humano para sensar su entorno. Esta idea fue planteada hace cerca de 2500 años por Protágoras y sujeta, desde entonces, a controversia.\n",
    "\n",
    "![](../images/protagoras.jpg)<br>\n",
    "\n",
    "Un punto de vista alterno/complementario, para valorar la calidad de los modelos, se deriva de la alegoría de la caverna, presentada por Platón alrededor de 380 a. C. En esta metáfora, Platón describe a un grupo de prisioneros que han vivido encadenados en una cueva viendo hacia una pared desnuda. Los prisioneros juzgan el mundo a través de las sombras proyectadas en ella por objetos comunes, en contraposición a los filósofos que ven los objetos como son. De esta manera, Platón discute la importancia de la educación: los modelos de los prisioneros son pobres, en este caso, debido a la falta de conocimiento, pero pueden ser mejorados gracias a un estudio más profundo.\n",
    "\n",
    "![](../images/platon_cave_sanraedam_1604.jpg)<br>\n",
    "\n",
    "Al margen de esta discusión por demás, filosóficamente interesante (si los modelos utilizados por los seres humanos son incompletos o erróneos por ignorancia o por imposibilidad de aprehensión de la realidad), es importante destacar la naturaleza incompleta de cualquier modelo, ya sea que dicho modelo sea resultado de métodos de reconocimiento de patrones o de teorías científicas bien establecidas."
   ]
  },
  {
   "cell_type": "markdown",
   "metadata": {},
   "source": [
    "## Pensamiento computacional\n",
    "\n",
    "El *pensamiento computacional* es un concepto que describe el proceso de razonamiento que conduce a la resolución de un problema por medios computacionales. El término fue introducido originalmente por [Seymour Papert](http://www.papert.org/articles/AnExplorationintheSpaceofMathematicsEducations.html) para resaltar el potencial de las representaciones computacionales para expresar ideas complejas, particularmente mediante el uso de simulaciones para enfatizar los aspectos dinámicos de los fenómenos físicos, en la enseñanza. Posteriormente, el concepto fue abordado por [Jeannette M. Wing](https://www.cs.cmu.edu/~15110-s13/Wing06-ct.pdf) en el sentido que se utiliza actualmente, como la habilidad para descomponer un problema de manera que se pueda resolver de manera algorítmica. Wing enfatiza su importancia como una competencia básica para el aprendizaje, adicional a las de lectura, escritura y aritmética\n",
    "De caracter controversial, en algunos casos es presentado como una [tercera forma de generar conocimiento](https://www.americanscientist.org/article/computational-thinking-in-science), además de las formas tradicionales de teoría y experimentación. De acuerdo a este concepto, las actividades de resolución de problemas se pueden organizar en cuatro etapas: \n",
    "\n",
    "![](../images/comp_thinking.png)<br>\n",
    "\n",
    "* Descomposición: En esta etapa, el problema se replantea en pequeños subproblemas más manejables.\n",
    "* *Reconocimiento de patrones*: En esta etapa, cada subproblema es analizado tratando de encontrar similaridades con otros casos resueltos u observados anteriormente.\n",
    "* Abstracción: Esta etapa consiste en replantear el problema global y sus subproblemas, así como la solución, tratando de eliminar los aspectos específicos al caso y generalizar problema y solución.\n",
    "* Algoritmos: Finalmente, se presenta la solución al problema en términos de una secuencia de pasos sistemáticos.\n",
    "\n",
    "Hay que notar que, en este contexto, el término de reconocimiento de patrones suele utilizarse de manera más general que el utilizado en ciencias de la computación,  es decir, no sólo se trata del reconocimiento de patrones a partir de los datos, sino de segmentos de solución de problemas en general. También es digno de resaltar la coincidencia del enfoque del pensamiento computacional con el de ciencia de datos, en el sentido de estar enfocado en casos específicos y en el uso de las herramientas necesarias para sistematizar su análisis."
   ]
  },
  {
   "cell_type": "markdown",
   "metadata": {},
   "source": [
    "## Eventos no deterministas y paradígmas\n"
   ]
  },
  {
   "cell_type": "markdown",
   "metadata": {},
   "source": [
    "Si observamos un evento _n_ número de veces y notamos que para un determinado conjunto de condiciones iniciales el resultado siempre es el mismo, podemos crear una regla deductiva a base de esa experiencia. Si esta regla no varía en el tiempo podemos formalizarla mediante el método científico. Posteriormente podemos plasmar el proceso determinista\n",
    "mediante un algoritmo, función, ecuación o ley matemática [Mitchell, 1997]. Desafortunadamente, no siempre es posible encontrar una relación o función explícita que asocie un evento con una determinada reacción. En el área de ciencias de la computación, a este fenómeno se le denomina evento no determinista (estocástico)\n",
    "\n"
   ]
  },
  {
   "cell_type": "markdown",
   "metadata": {},
   "source": [
    "\n",
    "> Si para el problema en cuestión, existe un modelo matemático exacto que obtiene un valor invariante y correcto para cualquier ejemplo, esto quiere decir que no es necesario abordar el problema con técnicas de machine learning"
   ]
  },
  {
   "cell_type": "markdown",
   "metadata": {},
   "source": [
    "Uno de los paradigmas de cómputo en IA es el paradigma de cómputo suave (o flexible), el cual trata de enfrentar los problemas cómo lo hace la mente humana. La mente humana es eficaz cuando se trata de razonar dando soluciones aproximadas y no exactas. Las respuestas humanas a los problemas cotidianos dependen del dominio del problema, razonamiento incierto, la adaptaci´on a un entorno variable y ambig¨uo. La experiencia otorga la capacidad de hacer frente a la vaguedad inherente, la incertidumbre y a información incompleta de los problemas cotidianos. Las técnicas de soft computing aprovechan la imprecisión, la incertidumbre, la verdad parcial, y la aproximación para lograr viabilidad, robustez y bajo costo en las soluciones a problemas computacionales [Zadeh, 1994].\n",
    "Por otro lado, las técnicas de hard computing tienen como principal objetivo la precisión, certeza y el rigor matem´atico. Adem´as, es necesario para poder aplicarlas un modelo analítico previo. Muchos modelos matemáticos son productivos al aplicarse a conjuntos de datos que cumple ciertos par´ametros, pero para otros conjuntos de datos que no cumplen estas condiciones, el mismo modelo puede dar resultados no satisfactorios. En la práctica algunos problemas complejos se encuentran en las ´areas como: biología, medicina, ciencias humanas y ciencias de la administración. En dichas áreas los m´etodos tradicionales basados en análisis matemáticos generalmente no ofrecen los mejores resultados [Kecman,2001]."
   ]
  },
  {
   "cell_type": "markdown",
   "metadata": {},
   "source": [
    "## Ciencia de datos y otras disciplinas\n",
    "La **ciencia de datos** es un nuevo campo interdisciplinario cuyo objetivo es analizar y desarrollar explicaciones de fenómenos complejos a partir del análisis de los datos generados por eventos particulares.\n",
    "\n",
    "La ciencia de datos se relaciona con otras disciplinas para el tratamiento y comprensión de datos, entre las que destacan las siguientes:\n",
    "\n",
    "![](../images/rp_y_otros.png)\n",
    "\n",
    "Los límites específicos de estas disciplinas no están bien definidos, como puede apreciarse de los siguientes esquemas, encontrados en la Web:\n",
    "\n",
    "![](../images/ai-infographic.gif)\n",
    "\n",
    "![](../images/main-qimg.png)\n",
    "\n",
    "![](../images/ds-disciplines.png)\n",
    "\n",
    "![](../images/meme.jpeg)\n",
    "\n",
    "La ciencia de datos es un campo interdisciplinario que combina conocimientos y técnicas de varias disciplinas para obtener insights y conocimientos a partir de datos. Aquí hay algunas disciplinas que están involucradas en la ciencia de datos:\n",
    "\n",
    "- __Estadísticas__: La estadística es fundamental en la ciencia de datos. Ayuda en la recopilación, análisis y modelado de datos. Las pruebas estadísticas y la inferencia son componentes esenciales para tomar decisiones basadas en datos.\n",
    "\n",
    "- __Programación y Ciencias de la Computación__: La programación es esencial para el procesamiento y análisis de datos a gran escala. Lenguajes como Python y R son ampliamente utilizados en ciencia de datos. También se requieren conocimientos en bases de datos y manejo de datos en tiempo real.\n",
    "\n",
    "- __Aprendizaje Automático (Machine Learning)__: El aprendizaje automático es una subdisciplina de la inteligencia artificial que se centra en el desarrollo de algoritmos y modelos que pueden aprender de los datos y realizar predicciones o toma de decisiones. Esto incluye algoritmos de clasificación, regresión, agrupación y más.\n",
    "\n",
    "- __Visualización de Datos__: La visualización es esencial para comunicar los resultados de análisis de datos de manera efectiva. Los conocimientos en diseño gráfico y visualización ayudan a crear gráficos y visualizaciones informativas.\n",
    "\n",
    "- __Dominio del Sujeto__: Dependiendo de la aplicación de la ciencia de datos, se requiere conocimiento en el dominio específico. Por ejemplo, si estás trabajando en análisis de datos de atención médica, se necesita comprensión de la terminología médica y los procesos clínicos.\n",
    "\n",
    "- __Ética y Privacidad de Datos__: Con la creciente preocupación por la ética y la privacidad de los datos, es importante tener un conocimiento sólido de los aspectos éticos y legales de la ciencia de datos. Esto incluye el cumplimiento de regulaciones como el GDPR.\n",
    "\n",
    "- __Optimización y Modelado Matemático__: Para resolver problemas complejos, se utilizan técnicas de optimización y modelado matemático. Estas disciplinas son importantes para diseñar algoritmos eficientes y modelos precisos.\n",
    "\n",
    "- __Comunicación y Habilidades de Presentación__: La capacidad de comunicar los resultados del análisis de datos de manera efectiva es crucial. Las habilidades de presentación y la narración de historias son esenciales para influir en la toma de decisiones."
   ]
  },
  {
   "cell_type": "markdown",
   "metadata": {},
   "source": [
    "## Industria 4.0 y la popularización de la IA\n",
    "\n",
    "La inteligencia artificial y otras áreas relacionadas, particularmente bajo las etiquetas de \"*Machine Learning*\", \"*Data Mining*\" y \"*Data Science*\", está viviendo una nueva etapa de popularidad, que en esta ocasión viene acompañada de un gran interés por parte de la industria. Este \"resurgimiento\" del área está fuertemente vinculada a la llamada \"economía de la información\" y a la creciente **Industria 4.0**. \n",
    "\n",
    "[![](../images/Industry_4.0.png)](https://en.wikipedia.org/wiki/Industry_4.0)\n",
    "\n",
    "La adopción de las técnicas de inteligencia artificial se ha realizado en todos los ámbitos de la industria y con la participación de las empresas más importantes:\n",
    "\n",
    "[![](../images/ia_landscape.png)](https://www.techemergence.com/artificial-intelligence-industry-an-overview-by-segment/)\n",
    "\n",
    "<br><br>En la siguiente gráfica se presenta un panorama sobre tendencias del uso de la IA en la industria para los próximos años:\n",
    "\n",
    "[![](../images/te_research.png)](https://www.techemergence.com/ai-founders-and-executives-predict-5-year-trends-on-consumer-tech/)\n",
    "\n",
    "<br><br>Por otra parte, el interés de la industria en la IA se evidencia a través de las adquisiciones de empresas de AI realizadas por los gigantes tecnológicos:\n",
    "\n",
    "[![](../images/ai_buys_giants.jpg)](https://twitter.com/MrJoseHernandez/status/939235139355398149)"
   ]
  },
  {
   "cell_type": "markdown",
   "metadata": {},
   "source": [
    "## Conclusiones\n",
    "\n",
    "* El reconocimiento de patrones es una disciplina que busca explotar las capacidades naturales del ser humano para identificar regularidades en grandes volúmenes de observaciones con el fin de explicar el comportamiento de sistemas complejos. \n",
    "\n",
    "* Aunque actualmente se han puesto de moda muchos otros términos relacionados con el análisis de datos, el reconocimiento de patrones sigue siendo una de las áreas fundamentales para este fin.\n",
    "\n",
    "* Actualmente se vive una etapa de gran popularidad del área, gracias al creciente interés de la industria por incorporar las metodologías inteligentes de análisis de datos a procesos reales y con impacto práctico.\n",
    "\n",
    "* Para poder impactar en este creciente mercado, es importante dominar técnicas avanzadas de reconocimiento de patrones, lo mismo que sistematizar su uso en la solución de problemas reales."
   ]
  },
  {
   "cell_type": "code",
   "execution_count": null,
   "metadata": {},
   "outputs": [],
   "source": []
  }
 ],
 "metadata": {
  "celltoolbar": "Raw Cell Format",
  "hide_input": false,
  "kernelspec": {
   "display_name": "Python 3 (ipykernel)",
   "language": "python",
   "name": "python3"
  },
  "language_info": {
   "codemirror_mode": {
    "name": "ipython",
    "version": 3
   },
   "file_extension": ".py",
   "mimetype": "text/x-python",
   "name": "python",
   "nbconvert_exporter": "python",
   "pygments_lexer": "ipython3",
   "version": "3.13.5"
  }
 },
 "nbformat": 4,
 "nbformat_minor": 4
}
